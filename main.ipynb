{
 "cells": [
  {
   "cell_type": "code",
   "execution_count": 116,
   "metadata": {},
   "outputs": [],
   "source": [
    "\n",
    "import numpy as np\n",
    "import pandas as pd\n",
    "import matplotlib.pyplot as plt\n",
    "import sklearn\n",
    "from sklearn.metrics import f1_score\n",
    "import os\n",
    "import cv2\n",
    "import yaml\n",
    "from ultralytics import YOLO\n",
    "import tensorflow as tf\n",
    "from tensorflow.keras.models import Sequential\n",
    "from tensorflow.keras.preprocessing.image import ImageDataGenerator\n",
    "from tensorflow.keras.layers import Dense, Flatten, Dropout,Layer,Conv2D,InputLayer,MaxPool2D,BatchNormalization,Input\n",
    "from tensorflow.keras.metrics import BinaryAccuracy,FalsePositives,FalseNegatives,TruePositives,TrueNegatives,Precision,Recall, AUC\n",
    "from tensorflow.keras.optimizers import Adam\n",
    "from tensorflow.keras.losses import BinaryCrossentropy\n",
    "from tensorflow.keras.callbacks import  Callback,CSVLogger,EarlyStopping,LearningRateScheduler\n",
    "from sklearn.metrics import confusion_matrix,roc_curve\n",
    "import pydot\n",
    "import graphviz\n",
    "import seaborn as sns\n",
    "import matplotlib.pyplot as plt\n"
   ]
  },
  {
   "cell_type": "code",
   "execution_count": 117,
   "metadata": {},
   "outputs": [],
   "source": [
    "\n",
    "train_dir = 'D:\\juvdv2-vdvwc\\Train\\images'\n",
    "val_dir = 'D:\\juvdv2-vdvwc\\Val\\images'\n",
    "train_annotations_dir = 'D:\\juvdv2-vdvwc\\Train\\labels'\n",
    "val_annotations_dir = 'D:\\juvdv2-vdvwc\\Val\\labels'"
   ]
  },
  {
   "cell_type": "code",
   "execution_count": 243,
   "metadata": {},
   "outputs": [],
   "source": [
    "def parse_annotation(annotation_dir):\n",
    "    annotations = []\n",
    "    for weather in ['Rainny', 'Sunny']:\n",
    "        for time in ['Day', 'Night']:\n",
    "            current_annotation_dir = os.path.join(annotation_dir, weather, time)\n",
    "            for filename in os.listdir(current_annotation_dir):\n",
    "                if filename.endswith(\".txt\"):\n",
    "                    with open(os.path.join(current_annotation_dir, filename)) as f:\n",
    "                        lines = f.readlines()\n",
    "                        for line in lines:\n",
    "                            label = line.split(' ')[0]\n",
    "                            annotations.append(label)\n",
    "    return annotations"
   ]
  },
  {
   "cell_type": "code",
   "execution_count": 213,
   "metadata": {},
   "outputs": [],
   "source": [
    "def load_data(image_dir, annotation_dir):\n",
    "    images = []\n",
    "    labels = []\n",
    "    label_counts = {}\n",
    "\n",
    "    for weather in ['Rainny', 'Sunny']:\n",
    "        for time in ['Day', 'Night']:\n",
    "            curr_image_dir = os.path.join(image_dir, weather, time)\n",
    "            curr_annotation_dir = os.path.join(annotation_dir, weather, time)\n",
    "            \n",
    "            for filename in os.listdir(curr_image_dir):\n",
    "                if filename.endswith(\".jpg\") or filename.endswith(\".jpeg\"):\n",
    "                    image = cv2.imread(os.path.join(curr_image_dir, filename))\n",
    "                    image = cv2.resize(image, (224, 224))\n",
    "                    images.append(image)\n",
    "                    \n",
    "                    annotation_file = os.path.join(curr_annotation_dir, filename.split('.')[0] + '.txt')\n",
    "                    if os.path.exists(annotation_file):\n",
    "                        with open(annotation_file) as f:\n",
    "                            lines = f.readlines()\n",
    "                            image_labels = []\n",
    "                            \n",
    "                            for line in lines:\n",
    "                                label = line.split(' ')[0]\n",
    "                                image_labels.append(label)\n",
    "                                \n",
    "                                if label not in label_counts:\n",
    "                                    label_counts[label] = 1\n",
    "                                else:\n",
    "                                    label_counts[label] += 1\n",
    "                            \n",
    "                            labels.append(image_labels if image_labels else [])  # Append empty list if no labels\n",
    "                    else:\n",
    "                        labels.append([])  # No labels for this image\n",
    "\n",
    "    return np.array(images), np.array(labels), label_counts\n"
   ]
  },
  {
   "cell_type": "code",
   "execution_count": 238,
   "metadata": {},
   "outputs": [],
   "source": [
    "x_train,y_train,train_label_counts = load_data(train_dir,train_annotations_dir)\n",
    "x_val,y_val,val_label_counts = load_data(val_dir,val_annotations_dir)"
   ]
  },
  {
   "cell_type": "code",
   "execution_count": 240,
   "metadata": {},
   "outputs": [
    {
     "name": "stdout",
     "output_type": "stream",
     "text": [
      "Number of images loaded: 2600\n",
      "Number of labels loaded: 17099\n"
     ]
    }
   ],
   "source": [
    "print('Number of images loaded:', len(x_train))\n",
    "print('Number of labels loaded:', len(y_train))"
   ]
  },
  {
   "cell_type": "code",
   "execution_count": 188,
   "metadata": {},
   "outputs": [
    {
     "data": {
      "text/plain": [
       "(2600, 224, 224, 3)"
      ]
     },
     "execution_count": 188,
     "metadata": {},
     "output_type": "execute_result"
    }
   ],
   "source": [
    "x_train.shape"
   ]
  },
  {
   "cell_type": "code",
   "execution_count": 190,
   "metadata": {},
   "outputs": [
    {
     "data": {
      "text/plain": [
       "2600"
      ]
     },
     "execution_count": 190,
     "metadata": {},
     "output_type": "execute_result"
    }
   ],
   "source": [
    "len(y_train)"
   ]
  },
  {
   "cell_type": "code",
   "execution_count": 192,
   "metadata": {},
   "outputs": [],
   "source": [
    "x_train = x_train / 255.0\n",
    "x_val = x_val / 255.0"
   ]
  },
  {
   "cell_type": "code",
   "execution_count": 193,
   "metadata": {},
   "outputs": [],
   "source": [
    "train_annotations = parse_annotation(train_annotations_dir)\n",
    "val_annotations = parse_annotation(val_annotations_dir)"
   ]
  },
  {
   "cell_type": "code",
   "execution_count": 194,
   "metadata": {},
   "outputs": [
    {
     "name": "stdout",
     "output_type": "stream",
     "text": [
      "Train label counts: {'0': 10146, '1': 2379, '13': 166, '2': 1020, '3': 1194, '10': 9, '4': 291, '6': 331, '8': 333, '7': 343, '5': 387, '9': 315, '12': 2, '14': 49, '11': 132, '\\n': 1, '0.679479': 1}\n"
     ]
    }
   ],
   "source": [
    "\n",
    "print('Train label counts:',train_label_counts)"
   ]
  },
  {
   "cell_type": "code",
   "execution_count": 195,
   "metadata": {},
   "outputs": [],
   "source": [
    "class customDense(Layer):\n",
    "    def __init__(self, output_units, activation=None):\n",
    "        super(customDense, self).__init__()\n",
    "        self.output_units = output_units  \n",
    "        self.activation = activation\n",
    "\n",
    "    def build(self, input_features_shape):\n",
    "        self.w = self.add_weight(shape=(input_features_shape[-1], self.output_units),\n",
    "                                 initializer=\"random_normal\",\n",
    "                                 trainable=True)  \n",
    "        \n",
    "        self.b = self.add_weight(shape=(self.output_units,),\n",
    "                                 initializer=\"random_normal\",\n",
    "                                 trainable=True)  \n",
    "\n",
    "    def call(self, input_features):\n",
    "        pre_output = tf.matmul(input_features, self.w) + self.b  \n",
    "        if self.activation == \"relu\":\n",
    "            return tf.nn.relu(pre_output)  \n",
    "        elif self.activation == \"sigmoid\":\n",
    "            return tf.math.sigmoid(pre_output)  \n",
    "        else:\n",
    "            return pre_output   \n"
   ]
  },
  {
   "cell_type": "code",
   "execution_count": 196,
   "metadata": {},
   "outputs": [
    {
     "name": "stderr",
     "output_type": "stream",
     "text": [
      "c:\\Users\\chaga\\AppData\\Local\\Programs\\Python\\Python311\\Lib\\site-packages\\keras\\src\\layers\\core\\input_layer.py:26: UserWarning: Argument `input_shape` is deprecated. Use `shape` instead.\n",
      "  warnings.warn(\n"
     ]
    }
   ],
   "source": [
    "\n",
    "IM_SIZE =224\n",
    "lenet_custom_model = tf.keras.Sequential([\n",
    "    InputLayer(input_shape = (IM_SIZE,IM_SIZE,3)),\n",
    "    Conv2D(\n",
    "        filters = 6,\n",
    "        kernel_size = 5,\n",
    "        strides=(1,1),\n",
    "        padding ='valid',\n",
    "        activation = 'relu'  \n",
    "    ),\n",
    "    BatchNormalization(),\n",
    "    MaxPool2D(\n",
    "        pool_size = 2,\n",
    "        strides = 2\n",
    "    ),\n",
    "\n",
    "    Conv2D(\n",
    "        filters = 16,\n",
    "        kernel_size = 5,\n",
    "        strides=(1,1),\n",
    "        padding ='valid',\n",
    "        activation = 'relu'  \n",
    "    ),\n",
    "    BatchNormalization(),\n",
    "    MaxPool2D(\n",
    "        pool_size = 2,\n",
    "        strides = 2\n",
    "    ),\n",
    "\n",
    "    Flatten(),\n",
    "\n",
    "    customDense(100,activation=\"relu\"),\n",
    "    BatchNormalization(),\n",
    "    \n",
    "    customDense(10,activation=\"relu\"), \n",
    "    BatchNormalization(),\n",
    "    customDense(1,activation=\"sigmoid\"),\n",
    "])"
   ]
  },
  {
   "cell_type": "code",
   "execution_count": 197,
   "metadata": {},
   "outputs": [
    {
     "data": {
      "text/html": [
       "<pre style=\"white-space:pre;overflow-x:auto;line-height:normal;font-family:Menlo,'DejaVu Sans Mono',consolas,'Courier New',monospace\"><span style=\"font-weight: bold\">Model: \"sequential_3\"</span>\n",
       "</pre>\n"
      ],
      "text/plain": [
       "\u001b[1mModel: \"sequential_3\"\u001b[0m\n"
      ]
     },
     "metadata": {},
     "output_type": "display_data"
    },
    {
     "data": {
      "text/html": [
       "<pre style=\"white-space:pre;overflow-x:auto;line-height:normal;font-family:Menlo,'DejaVu Sans Mono',consolas,'Courier New',monospace\">┏━━━━━━━━━━━━━━━━━━━━━━━━━━━━━━━━━┳━━━━━━━━━━━━━━━━━━━━━━━━┳━━━━━━━━━━━━━━━┓\n",
       "┃<span style=\"font-weight: bold\"> Layer (type)                    </span>┃<span style=\"font-weight: bold\"> Output Shape           </span>┃<span style=\"font-weight: bold\">       Param # </span>┃\n",
       "┡━━━━━━━━━━━━━━━━━━━━━━━━━━━━━━━━━╇━━━━━━━━━━━━━━━━━━━━━━━━╇━━━━━━━━━━━━━━━┩\n",
       "│ conv2d_9 (<span style=\"color: #0087ff; text-decoration-color: #0087ff\">Conv2D</span>)               │ (<span style=\"color: #00d7ff; text-decoration-color: #00d7ff\">None</span>, <span style=\"color: #00af00; text-decoration-color: #00af00\">220</span>, <span style=\"color: #00af00; text-decoration-color: #00af00\">220</span>, <span style=\"color: #00af00; text-decoration-color: #00af00\">6</span>)    │           <span style=\"color: #00af00; text-decoration-color: #00af00\">456</span> │\n",
       "├─────────────────────────────────┼────────────────────────┼───────────────┤\n",
       "│ batch_normalization_15          │ (<span style=\"color: #00d7ff; text-decoration-color: #00d7ff\">None</span>, <span style=\"color: #00af00; text-decoration-color: #00af00\">220</span>, <span style=\"color: #00af00; text-decoration-color: #00af00\">220</span>, <span style=\"color: #00af00; text-decoration-color: #00af00\">6</span>)    │            <span style=\"color: #00af00; text-decoration-color: #00af00\">24</span> │\n",
       "│ (<span style=\"color: #0087ff; text-decoration-color: #0087ff\">BatchNormalization</span>)            │                        │               │\n",
       "├─────────────────────────────────┼────────────────────────┼───────────────┤\n",
       "│ max_pooling2d_6 (<span style=\"color: #0087ff; text-decoration-color: #0087ff\">MaxPooling2D</span>)  │ (<span style=\"color: #00d7ff; text-decoration-color: #00d7ff\">None</span>, <span style=\"color: #00af00; text-decoration-color: #00af00\">110</span>, <span style=\"color: #00af00; text-decoration-color: #00af00\">110</span>, <span style=\"color: #00af00; text-decoration-color: #00af00\">6</span>)    │             <span style=\"color: #00af00; text-decoration-color: #00af00\">0</span> │\n",
       "├─────────────────────────────────┼────────────────────────┼───────────────┤\n",
       "│ conv2d_10 (<span style=\"color: #0087ff; text-decoration-color: #0087ff\">Conv2D</span>)              │ (<span style=\"color: #00d7ff; text-decoration-color: #00d7ff\">None</span>, <span style=\"color: #00af00; text-decoration-color: #00af00\">106</span>, <span style=\"color: #00af00; text-decoration-color: #00af00\">106</span>, <span style=\"color: #00af00; text-decoration-color: #00af00\">16</span>)   │         <span style=\"color: #00af00; text-decoration-color: #00af00\">2,416</span> │\n",
       "├─────────────────────────────────┼────────────────────────┼───────────────┤\n",
       "│ batch_normalization_16          │ (<span style=\"color: #00d7ff; text-decoration-color: #00d7ff\">None</span>, <span style=\"color: #00af00; text-decoration-color: #00af00\">106</span>, <span style=\"color: #00af00; text-decoration-color: #00af00\">106</span>, <span style=\"color: #00af00; text-decoration-color: #00af00\">16</span>)   │            <span style=\"color: #00af00; text-decoration-color: #00af00\">64</span> │\n",
       "│ (<span style=\"color: #0087ff; text-decoration-color: #0087ff\">BatchNormalization</span>)            │                        │               │\n",
       "├─────────────────────────────────┼────────────────────────┼───────────────┤\n",
       "│ max_pooling2d_7 (<span style=\"color: #0087ff; text-decoration-color: #0087ff\">MaxPooling2D</span>)  │ (<span style=\"color: #00d7ff; text-decoration-color: #00d7ff\">None</span>, <span style=\"color: #00af00; text-decoration-color: #00af00\">53</span>, <span style=\"color: #00af00; text-decoration-color: #00af00\">53</span>, <span style=\"color: #00af00; text-decoration-color: #00af00\">16</span>)     │             <span style=\"color: #00af00; text-decoration-color: #00af00\">0</span> │\n",
       "├─────────────────────────────────┼────────────────────────┼───────────────┤\n",
       "│ flatten_3 (<span style=\"color: #0087ff; text-decoration-color: #0087ff\">Flatten</span>)             │ (<span style=\"color: #00d7ff; text-decoration-color: #00d7ff\">None</span>, <span style=\"color: #00af00; text-decoration-color: #00af00\">44944</span>)          │             <span style=\"color: #00af00; text-decoration-color: #00af00\">0</span> │\n",
       "├─────────────────────────────────┼────────────────────────┼───────────────┤\n",
       "│ custom_dense_9 (<span style=\"color: #0087ff; text-decoration-color: #0087ff\">customDense</span>)    │ (<span style=\"color: #00d7ff; text-decoration-color: #00d7ff\">None</span>, <span style=\"color: #00af00; text-decoration-color: #00af00\">100</span>)            │     <span style=\"color: #00af00; text-decoration-color: #00af00\">4,494,500</span> │\n",
       "├─────────────────────────────────┼────────────────────────┼───────────────┤\n",
       "│ batch_normalization_17          │ (<span style=\"color: #00d7ff; text-decoration-color: #00d7ff\">None</span>, <span style=\"color: #00af00; text-decoration-color: #00af00\">100</span>)            │           <span style=\"color: #00af00; text-decoration-color: #00af00\">400</span> │\n",
       "│ (<span style=\"color: #0087ff; text-decoration-color: #0087ff\">BatchNormalization</span>)            │                        │               │\n",
       "├─────────────────────────────────┼────────────────────────┼───────────────┤\n",
       "│ custom_dense_10 (<span style=\"color: #0087ff; text-decoration-color: #0087ff\">customDense</span>)   │ (<span style=\"color: #00d7ff; text-decoration-color: #00d7ff\">None</span>, <span style=\"color: #00af00; text-decoration-color: #00af00\">10</span>)             │         <span style=\"color: #00af00; text-decoration-color: #00af00\">1,010</span> │\n",
       "├─────────────────────────────────┼────────────────────────┼───────────────┤\n",
       "│ batch_normalization_18          │ (<span style=\"color: #00d7ff; text-decoration-color: #00d7ff\">None</span>, <span style=\"color: #00af00; text-decoration-color: #00af00\">10</span>)             │            <span style=\"color: #00af00; text-decoration-color: #00af00\">40</span> │\n",
       "│ (<span style=\"color: #0087ff; text-decoration-color: #0087ff\">BatchNormalization</span>)            │                        │               │\n",
       "├─────────────────────────────────┼────────────────────────┼───────────────┤\n",
       "│ custom_dense_11 (<span style=\"color: #0087ff; text-decoration-color: #0087ff\">customDense</span>)   │ (<span style=\"color: #00d7ff; text-decoration-color: #00d7ff\">None</span>, <span style=\"color: #00af00; text-decoration-color: #00af00\">1</span>)              │            <span style=\"color: #00af00; text-decoration-color: #00af00\">11</span> │\n",
       "└─────────────────────────────────┴────────────────────────┴───────────────┘\n",
       "</pre>\n"
      ],
      "text/plain": [
       "┏━━━━━━━━━━━━━━━━━━━━━━━━━━━━━━━━━┳━━━━━━━━━━━━━━━━━━━━━━━━┳━━━━━━━━━━━━━━━┓\n",
       "┃\u001b[1m \u001b[0m\u001b[1mLayer (type)                   \u001b[0m\u001b[1m \u001b[0m┃\u001b[1m \u001b[0m\u001b[1mOutput Shape          \u001b[0m\u001b[1m \u001b[0m┃\u001b[1m \u001b[0m\u001b[1m      Param #\u001b[0m\u001b[1m \u001b[0m┃\n",
       "┡━━━━━━━━━━━━━━━━━━━━━━━━━━━━━━━━━╇━━━━━━━━━━━━━━━━━━━━━━━━╇━━━━━━━━━━━━━━━┩\n",
       "│ conv2d_9 (\u001b[38;5;33mConv2D\u001b[0m)               │ (\u001b[38;5;45mNone\u001b[0m, \u001b[38;5;34m220\u001b[0m, \u001b[38;5;34m220\u001b[0m, \u001b[38;5;34m6\u001b[0m)    │           \u001b[38;5;34m456\u001b[0m │\n",
       "├─────────────────────────────────┼────────────────────────┼───────────────┤\n",
       "│ batch_normalization_15          │ (\u001b[38;5;45mNone\u001b[0m, \u001b[38;5;34m220\u001b[0m, \u001b[38;5;34m220\u001b[0m, \u001b[38;5;34m6\u001b[0m)    │            \u001b[38;5;34m24\u001b[0m │\n",
       "│ (\u001b[38;5;33mBatchNormalization\u001b[0m)            │                        │               │\n",
       "├─────────────────────────────────┼────────────────────────┼───────────────┤\n",
       "│ max_pooling2d_6 (\u001b[38;5;33mMaxPooling2D\u001b[0m)  │ (\u001b[38;5;45mNone\u001b[0m, \u001b[38;5;34m110\u001b[0m, \u001b[38;5;34m110\u001b[0m, \u001b[38;5;34m6\u001b[0m)    │             \u001b[38;5;34m0\u001b[0m │\n",
       "├─────────────────────────────────┼────────────────────────┼───────────────┤\n",
       "│ conv2d_10 (\u001b[38;5;33mConv2D\u001b[0m)              │ (\u001b[38;5;45mNone\u001b[0m, \u001b[38;5;34m106\u001b[0m, \u001b[38;5;34m106\u001b[0m, \u001b[38;5;34m16\u001b[0m)   │         \u001b[38;5;34m2,416\u001b[0m │\n",
       "├─────────────────────────────────┼────────────────────────┼───────────────┤\n",
       "│ batch_normalization_16          │ (\u001b[38;5;45mNone\u001b[0m, \u001b[38;5;34m106\u001b[0m, \u001b[38;5;34m106\u001b[0m, \u001b[38;5;34m16\u001b[0m)   │            \u001b[38;5;34m64\u001b[0m │\n",
       "│ (\u001b[38;5;33mBatchNormalization\u001b[0m)            │                        │               │\n",
       "├─────────────────────────────────┼────────────────────────┼───────────────┤\n",
       "│ max_pooling2d_7 (\u001b[38;5;33mMaxPooling2D\u001b[0m)  │ (\u001b[38;5;45mNone\u001b[0m, \u001b[38;5;34m53\u001b[0m, \u001b[38;5;34m53\u001b[0m, \u001b[38;5;34m16\u001b[0m)     │             \u001b[38;5;34m0\u001b[0m │\n",
       "├─────────────────────────────────┼────────────────────────┼───────────────┤\n",
       "│ flatten_3 (\u001b[38;5;33mFlatten\u001b[0m)             │ (\u001b[38;5;45mNone\u001b[0m, \u001b[38;5;34m44944\u001b[0m)          │             \u001b[38;5;34m0\u001b[0m │\n",
       "├─────────────────────────────────┼────────────────────────┼───────────────┤\n",
       "│ custom_dense_9 (\u001b[38;5;33mcustomDense\u001b[0m)    │ (\u001b[38;5;45mNone\u001b[0m, \u001b[38;5;34m100\u001b[0m)            │     \u001b[38;5;34m4,494,500\u001b[0m │\n",
       "├─────────────────────────────────┼────────────────────────┼───────────────┤\n",
       "│ batch_normalization_17          │ (\u001b[38;5;45mNone\u001b[0m, \u001b[38;5;34m100\u001b[0m)            │           \u001b[38;5;34m400\u001b[0m │\n",
       "│ (\u001b[38;5;33mBatchNormalization\u001b[0m)            │                        │               │\n",
       "├─────────────────────────────────┼────────────────────────┼───────────────┤\n",
       "│ custom_dense_10 (\u001b[38;5;33mcustomDense\u001b[0m)   │ (\u001b[38;5;45mNone\u001b[0m, \u001b[38;5;34m10\u001b[0m)             │         \u001b[38;5;34m1,010\u001b[0m │\n",
       "├─────────────────────────────────┼────────────────────────┼───────────────┤\n",
       "│ batch_normalization_18          │ (\u001b[38;5;45mNone\u001b[0m, \u001b[38;5;34m10\u001b[0m)             │            \u001b[38;5;34m40\u001b[0m │\n",
       "│ (\u001b[38;5;33mBatchNormalization\u001b[0m)            │                        │               │\n",
       "├─────────────────────────────────┼────────────────────────┼───────────────┤\n",
       "│ custom_dense_11 (\u001b[38;5;33mcustomDense\u001b[0m)   │ (\u001b[38;5;45mNone\u001b[0m, \u001b[38;5;34m1\u001b[0m)              │            \u001b[38;5;34m11\u001b[0m │\n",
       "└─────────────────────────────────┴────────────────────────┴───────────────┘\n"
      ]
     },
     "metadata": {},
     "output_type": "display_data"
    },
    {
     "data": {
      "text/html": [
       "<pre style=\"white-space:pre;overflow-x:auto;line-height:normal;font-family:Menlo,'DejaVu Sans Mono',consolas,'Courier New',monospace\"><span style=\"font-weight: bold\"> Total params: </span><span style=\"color: #00af00; text-decoration-color: #00af00\">4,498,921</span> (17.16 MB)\n",
       "</pre>\n"
      ],
      "text/plain": [
       "\u001b[1m Total params: \u001b[0m\u001b[38;5;34m4,498,921\u001b[0m (17.16 MB)\n"
      ]
     },
     "metadata": {},
     "output_type": "display_data"
    },
    {
     "data": {
      "text/html": [
       "<pre style=\"white-space:pre;overflow-x:auto;line-height:normal;font-family:Menlo,'DejaVu Sans Mono',consolas,'Courier New',monospace\"><span style=\"font-weight: bold\"> Trainable params: </span><span style=\"color: #00af00; text-decoration-color: #00af00\">4,498,657</span> (17.16 MB)\n",
       "</pre>\n"
      ],
      "text/plain": [
       "\u001b[1m Trainable params: \u001b[0m\u001b[38;5;34m4,498,657\u001b[0m (17.16 MB)\n"
      ]
     },
     "metadata": {},
     "output_type": "display_data"
    },
    {
     "data": {
      "text/html": [
       "<pre style=\"white-space:pre;overflow-x:auto;line-height:normal;font-family:Menlo,'DejaVu Sans Mono',consolas,'Courier New',monospace\"><span style=\"font-weight: bold\"> Non-trainable params: </span><span style=\"color: #00af00; text-decoration-color: #00af00\">264</span> (1.03 KB)\n",
       "</pre>\n"
      ],
      "text/plain": [
       "\u001b[1m Non-trainable params: \u001b[0m\u001b[38;5;34m264\u001b[0m (1.03 KB)\n"
      ]
     },
     "metadata": {},
     "output_type": "display_data"
    }
   ],
   "source": [
    "lenet_custom_model.summary()"
   ]
  },
  {
   "cell_type": "code",
   "execution_count": 198,
   "metadata": {},
   "outputs": [],
   "source": [
    "metrics = [TruePositives(name ='tp'),TrueNegatives(name='tn'),FalsePositives(name='fp'),FalseNegatives(name='fn'),\n",
    "           Precision(name='precision'),Recall(name='recall'),AUC(name='auc'),BinaryAccuracy(name='accuracy')]"
   ]
  },
  {
   "cell_type": "code",
   "execution_count": 199,
   "metadata": {},
   "outputs": [],
   "source": [
    "def scheduler(epoch,lr):\n",
    "    if epoch<=10:\n",
    "        return lr\n",
    "    else:\n",
    "        return (lr*tf.math.exp(-0.1)).numpy()\n",
    "scheduler_callback = LearningRateScheduler(scheduler,verbose=1)"
   ]
  },
  {
   "cell_type": "code",
   "execution_count": 200,
   "metadata": {},
   "outputs": [],
   "source": [
    "lenet_custom_model.compile(\n",
    "    optimizer=Adam(learning_rate = 0.01),\n",
    "    loss = BinaryCrossentropy(),\n",
    "    metrics = metrics\n",
    ")"
   ]
  },
  {
   "cell_type": "code",
   "execution_count": 191,
   "metadata": {},
   "outputs": [
    {
     "ename": "ValueError",
     "evalue": "Unrecognized data type: x=[[[[ 43  32  53]\n   [ 61  55  99]\n   [ 59  59 104]\n   ...\n   [227 219 202]\n   [225 217 200]\n   [227 219 202]]\n\n  [[ 38  31  45]\n   [ 65  63 104]\n   [ 69  70 121]\n   ...\n   [226 218 201]\n   [228 220 203]\n   [228 220 203]]\n\n  [[ 35  32  40]\n   [ 67  66 103]\n   [ 75  75 128]\n   ...\n   [222 214 197]\n   [203 195 178]\n   [200 192 175]]\n\n  ...\n\n  [[ 12   7   6]\n   [ 15   9   8]\n   [ 19  10  10]\n   ...\n   [ 58  47  39]\n   [ 59  48  40]\n   [ 58  46  39]]\n\n  [[ 14   9   8]\n   [ 20  12  12]\n   [ 24  14  14]\n   ...\n   [ 57  46  38]\n   [ 57  46  39]\n   [ 57  45  39]]\n\n  [[ 19  11  11]\n   [ 23  15  15]\n   [ 26  18  18]\n   ...\n   [ 57  45  39]\n   [ 57  45  39]\n   [ 57  45  39]]]\n\n\n [[[ 25  14  10]\n   [ 98  84  78]\n   [ 58  42  36]\n   ...\n   [229 220 206]\n   [233 224 210]\n   [211 202 188]]\n\n  [[ 29  17  11]\n   [ 52  39  31]\n   [ 88  70  65]\n   ...\n   [205 196 182]\n   [234 225 211]\n   [228 219 205]]\n\n  [[ 32  20  14]\n   [ 27  15   5]\n   [ 84  69  62]\n   ...\n   [230 222 205]\n   [229 220 206]\n   [227 218 204]]\n\n  ...\n\n  [[ 43  30  29]\n   [ 45  32  30]\n   [ 47  34  32]\n   ...\n   [ 56  45  38]\n   [ 56  46  37]\n   [ 56  46  36]]\n\n  [[ 42  30  28]\n   [ 44  31  29]\n   [ 47  34  32]\n   ...\n   [ 56  44  38]\n   [ 57  46  38]\n   [ 55  44  36]]\n\n  [[ 41  29  27]\n   [ 43  30  28]\n   [ 46  33  31]\n   ...\n   [ 56  44  38]\n   [ 56  44  38]\n   [ 54  42  36]]]\n\n\n [[[252 243 230]\n   [252 243 230]\n   [252 243 230]\n   ...\n   [252 245 236]\n   [255 246 237]\n   [254 245 235]]\n\n  [[252 242 232]\n   [252 242 232]\n   [252 242 232]\n   ...\n   [252 245 236]\n   [254 245 236]\n   [255 246 236]]\n\n  [[254 243 235]\n   [254 243 235]\n   [254 243 235]\n   ...\n   [252 245 236]\n   [254 245 236]\n   [254 245 235]]\n\n  ...\n\n  [[ 58  39  36]\n   [ 58  39  36]\n   [ 59  41  38]\n   ...\n   [ 70  58  54]\n   [ 71  59  55]\n   [ 70  58  54]]\n\n  [[ 57  38  35]\n   [ 57  38  35]\n   [ 57  38  35]\n   ...\n   [ 71  59  55]\n   [ 71  59  55]\n   [ 71  59  55]]\n\n  [[ 57  38  35]\n   [ 57  38  35]\n   [ 57  38  35]\n   ...\n   [ 72  60  56]\n   [ 72  60  56]\n   [ 72  60  56]]]\n\n\n ...\n\n\n [[[  0   0   0]\n   [  0   0   0]\n   [  0   0   0]\n   ...\n   [  0   0   0]\n   [  0   0   0]\n   [  0   0   0]]\n\n  [[  0   0   0]\n   [  0   0   0]\n   [  0   0   0]\n   ...\n   [  0   0   0]\n   [  0   0   0]\n   [  0   0   0]]\n\n  [[  0   0   0]\n   [  0   0   0]\n   [  0   0   0]\n   ...\n   [  0   0   0]\n   [  0   0   0]\n   [  0   0   0]]\n\n  ...\n\n  [[  0   0   0]\n   [  0   0   0]\n   [  0   0   0]\n   ...\n   [  0   0   0]\n   [  0   0   0]\n   [  0   0   0]]\n\n  [[  0   0   0]\n   [  0   0   0]\n   [  0   0   0]\n   ...\n   [  0   0   0]\n   [  0   0   0]\n   [  0   0   0]]\n\n  [[  0   0   0]\n   [  0   0   0]\n   [  0   0   0]\n   ...\n   [  0   0   0]\n   [  0   0   0]\n   [  0   0   0]]]\n\n\n [[[  0   0   0]\n   [  0   0   0]\n   [  0   0   0]\n   ...\n   [  0   0   0]\n   [  0   0   0]\n   [  0   0   0]]\n\n  [[  0   0   0]\n   [  0   0   0]\n   [  0   0   0]\n   ...\n   [  0   0   0]\n   [  0   0   0]\n   [  0   0   0]]\n\n  [[  0   0   0]\n   [  0   0   0]\n   [  0   0   0]\n   ...\n   [  0   0   0]\n   [  0   0   0]\n   [  0   0   0]]\n\n  ...\n\n  [[  0   0   0]\n   [  0   0   0]\n   [  0   0   0]\n   ...\n   [  0   0   0]\n   [  0   0   0]\n   [  0   0   0]]\n\n  [[  0   0   0]\n   [  0   0   0]\n   [  0   0   0]\n   ...\n   [  0   0   0]\n   [  0   0   0]\n   [  0   0   0]]\n\n  [[  0   0   0]\n   [  0   0   0]\n   [  0   0   0]\n   ...\n   [  0   0   0]\n   [  0   0   0]\n   [  0   0   0]]]\n\n\n [[[  0   0   0]\n   [  0   0   0]\n   [  0   0   0]\n   ...\n   [  0   0   0]\n   [  0   0   0]\n   [  0   0   0]]\n\n  [[  0   0   0]\n   [  0   0   0]\n   [  0   0   0]\n   ...\n   [  0   0   0]\n   [  0   0   0]\n   [  0   0   0]]\n\n  [[  0   0   0]\n   [  0   0   0]\n   [  0   0   0]\n   ...\n   [  0   0   0]\n   [  0   0   0]\n   [  0   0   0]]\n\n  ...\n\n  [[  0   0   0]\n   [  0   0   0]\n   [  0   0   0]\n   ...\n   [  0   0   0]\n   [  0   0   0]\n   [  0   0   0]]\n\n  [[  0   0   0]\n   [  0   0   0]\n   [  0   0   0]\n   ...\n   [  0   0   0]\n   [  0   0   0]\n   [  0   0   0]]\n\n  [[  0   0   0]\n   [  0   0   0]\n   [  0   0   0]\n   ...\n   [  0   0   0]\n   [  0   0   0]\n   [  0   0   0]]]] (of type <class 'numpy.ndarray'>)",
     "output_type": "error",
     "traceback": [
      "\u001b[1;31m---------------------------------------------------------------------------\u001b[0m",
      "\u001b[1;31mValueError\u001b[0m                                Traceback (most recent call last)",
      "Cell \u001b[1;32mIn[191], line 1\u001b[0m\n\u001b[1;32m----> 1\u001b[0m history \u001b[38;5;241m=\u001b[39m \u001b[43mlenet_custom_model\u001b[49m\u001b[38;5;241;43m.\u001b[39;49m\u001b[43mfit\u001b[49m\u001b[43m(\u001b[49m\u001b[43m \u001b[49m\u001b[43mx_train\u001b[49m\u001b[43m,\u001b[49m\u001b[43m \u001b[49m\u001b[43my_train\u001b[49m\u001b[43m,\u001b[49m\u001b[43m \u001b[49m\u001b[43mbatch_size\u001b[49m\u001b[38;5;241;43m=\u001b[39;49m\u001b[38;5;241;43m32\u001b[39;49m\u001b[43m,\u001b[49m\u001b[43m \u001b[49m\u001b[43mepochs\u001b[49m\u001b[38;5;241;43m=\u001b[39;49m\u001b[38;5;241;43m50\u001b[39;49m\u001b[43m,\u001b[49m\u001b[43m \u001b[49m\u001b[43mvalidation_data\u001b[49m\u001b[38;5;241;43m=\u001b[39;49m\u001b[43m(\u001b[49m\u001b[43mx_val\u001b[49m\u001b[43m,\u001b[49m\u001b[43m \u001b[49m\u001b[43my_val\u001b[49m\u001b[43m)\u001b[49m\u001b[43m,\u001b[49m\u001b[43mcallbacks\u001b[49m\u001b[38;5;241;43m=\u001b[39;49m\u001b[43m[\u001b[49m\u001b[43mscheduler_callback\u001b[49m\u001b[43m]\u001b[49m\u001b[43m)\u001b[49m\n",
      "File \u001b[1;32mc:\\Users\\chaga\\AppData\\Local\\Programs\\Python\\Python311\\Lib\\site-packages\\keras\\src\\utils\\traceback_utils.py:122\u001b[0m, in \u001b[0;36mfilter_traceback.<locals>.error_handler\u001b[1;34m(*args, **kwargs)\u001b[0m\n\u001b[0;32m    119\u001b[0m     filtered_tb \u001b[38;5;241m=\u001b[39m _process_traceback_frames(e\u001b[38;5;241m.\u001b[39m__traceback__)\n\u001b[0;32m    120\u001b[0m     \u001b[38;5;66;03m# To get the full stack trace, call:\u001b[39;00m\n\u001b[0;32m    121\u001b[0m     \u001b[38;5;66;03m# `keras.config.disable_traceback_filtering()`\u001b[39;00m\n\u001b[1;32m--> 122\u001b[0m     \u001b[38;5;28;01mraise\u001b[39;00m e\u001b[38;5;241m.\u001b[39mwith_traceback(filtered_tb) \u001b[38;5;28;01mfrom\u001b[39;00m \u001b[38;5;28;01mNone\u001b[39;00m\n\u001b[0;32m    123\u001b[0m \u001b[38;5;28;01mfinally\u001b[39;00m:\n\u001b[0;32m    124\u001b[0m     \u001b[38;5;28;01mdel\u001b[39;00m filtered_tb\n",
      "File \u001b[1;32mc:\\Users\\chaga\\AppData\\Local\\Programs\\Python\\Python311\\Lib\\site-packages\\keras\\src\\trainers\\data_adapters\\__init__.py:120\u001b[0m, in \u001b[0;36mget_data_adapter\u001b[1;34m(x, y, sample_weight, batch_size, steps_per_epoch, shuffle, class_weight)\u001b[0m\n\u001b[0;32m    112\u001b[0m     \u001b[38;5;28;01mreturn\u001b[39;00m GeneratorDataAdapter(x)\n\u001b[0;32m    113\u001b[0m     \u001b[38;5;66;03m# TODO: should we warn or not?\u001b[39;00m\n\u001b[0;32m    114\u001b[0m     \u001b[38;5;66;03m# warnings.warn(\u001b[39;00m\n\u001b[0;32m    115\u001b[0m     \u001b[38;5;66;03m#     \"`shuffle=True` was passed, but will be ignored since the \"\u001b[39;00m\n\u001b[1;32m   (...)\u001b[0m\n\u001b[0;32m    118\u001b[0m     \u001b[38;5;66;03m# )\u001b[39;00m\n\u001b[0;32m    119\u001b[0m \u001b[38;5;28;01melse\u001b[39;00m:\n\u001b[1;32m--> 120\u001b[0m     \u001b[38;5;28;01mraise\u001b[39;00m \u001b[38;5;167;01mValueError\u001b[39;00m(\u001b[38;5;124mf\u001b[39m\u001b[38;5;124m\"\u001b[39m\u001b[38;5;124mUnrecognized data type: x=\u001b[39m\u001b[38;5;132;01m{\u001b[39;00mx\u001b[38;5;132;01m}\u001b[39;00m\u001b[38;5;124m (of type \u001b[39m\u001b[38;5;132;01m{\u001b[39;00m\u001b[38;5;28mtype\u001b[39m(x)\u001b[38;5;132;01m}\u001b[39;00m\u001b[38;5;124m)\u001b[39m\u001b[38;5;124m\"\u001b[39m)\n",
      "\u001b[1;31mValueError\u001b[0m: Unrecognized data type: x=[[[[ 43  32  53]\n   [ 61  55  99]\n   [ 59  59 104]\n   ...\n   [227 219 202]\n   [225 217 200]\n   [227 219 202]]\n\n  [[ 38  31  45]\n   [ 65  63 104]\n   [ 69  70 121]\n   ...\n   [226 218 201]\n   [228 220 203]\n   [228 220 203]]\n\n  [[ 35  32  40]\n   [ 67  66 103]\n   [ 75  75 128]\n   ...\n   [222 214 197]\n   [203 195 178]\n   [200 192 175]]\n\n  ...\n\n  [[ 12   7   6]\n   [ 15   9   8]\n   [ 19  10  10]\n   ...\n   [ 58  47  39]\n   [ 59  48  40]\n   [ 58  46  39]]\n\n  [[ 14   9   8]\n   [ 20  12  12]\n   [ 24  14  14]\n   ...\n   [ 57  46  38]\n   [ 57  46  39]\n   [ 57  45  39]]\n\n  [[ 19  11  11]\n   [ 23  15  15]\n   [ 26  18  18]\n   ...\n   [ 57  45  39]\n   [ 57  45  39]\n   [ 57  45  39]]]\n\n\n [[[ 25  14  10]\n   [ 98  84  78]\n   [ 58  42  36]\n   ...\n   [229 220 206]\n   [233 224 210]\n   [211 202 188]]\n\n  [[ 29  17  11]\n   [ 52  39  31]\n   [ 88  70  65]\n   ...\n   [205 196 182]\n   [234 225 211]\n   [228 219 205]]\n\n  [[ 32  20  14]\n   [ 27  15   5]\n   [ 84  69  62]\n   ...\n   [230 222 205]\n   [229 220 206]\n   [227 218 204]]\n\n  ...\n\n  [[ 43  30  29]\n   [ 45  32  30]\n   [ 47  34  32]\n   ...\n   [ 56  45  38]\n   [ 56  46  37]\n   [ 56  46  36]]\n\n  [[ 42  30  28]\n   [ 44  31  29]\n   [ 47  34  32]\n   ...\n   [ 56  44  38]\n   [ 57  46  38]\n   [ 55  44  36]]\n\n  [[ 41  29  27]\n   [ 43  30  28]\n   [ 46  33  31]\n   ...\n   [ 56  44  38]\n   [ 56  44  38]\n   [ 54  42  36]]]\n\n\n [[[252 243 230]\n   [252 243 230]\n   [252 243 230]\n   ...\n   [252 245 236]\n   [255 246 237]\n   [254 245 235]]\n\n  [[252 242 232]\n   [252 242 232]\n   [252 242 232]\n   ...\n   [252 245 236]\n   [254 245 236]\n   [255 246 236]]\n\n  [[254 243 235]\n   [254 243 235]\n   [254 243 235]\n   ...\n   [252 245 236]\n   [254 245 236]\n   [254 245 235]]\n\n  ...\n\n  [[ 58  39  36]\n   [ 58  39  36]\n   [ 59  41  38]\n   ...\n   [ 70  58  54]\n   [ 71  59  55]\n   [ 70  58  54]]\n\n  [[ 57  38  35]\n   [ 57  38  35]\n   [ 57  38  35]\n   ...\n   [ 71  59  55]\n   [ 71  59  55]\n   [ 71  59  55]]\n\n  [[ 57  38  35]\n   [ 57  38  35]\n   [ 57  38  35]\n   ...\n   [ 72  60  56]\n   [ 72  60  56]\n   [ 72  60  56]]]\n\n\n ...\n\n\n [[[  0   0   0]\n   [  0   0   0]\n   [  0   0   0]\n   ...\n   [  0   0   0]\n   [  0   0   0]\n   [  0   0   0]]\n\n  [[  0   0   0]\n   [  0   0   0]\n   [  0   0   0]\n   ...\n   [  0   0   0]\n   [  0   0   0]\n   [  0   0   0]]\n\n  [[  0   0   0]\n   [  0   0   0]\n   [  0   0   0]\n   ...\n   [  0   0   0]\n   [  0   0   0]\n   [  0   0   0]]\n\n  ...\n\n  [[  0   0   0]\n   [  0   0   0]\n   [  0   0   0]\n   ...\n   [  0   0   0]\n   [  0   0   0]\n   [  0   0   0]]\n\n  [[  0   0   0]\n   [  0   0   0]\n   [  0   0   0]\n   ...\n   [  0   0   0]\n   [  0   0   0]\n   [  0   0   0]]\n\n  [[  0   0   0]\n   [  0   0   0]\n   [  0   0   0]\n   ...\n   [  0   0   0]\n   [  0   0   0]\n   [  0   0   0]]]\n\n\n [[[  0   0   0]\n   [  0   0   0]\n   [  0   0   0]\n   ...\n   [  0   0   0]\n   [  0   0   0]\n   [  0   0   0]]\n\n  [[  0   0   0]\n   [  0   0   0]\n   [  0   0   0]\n   ...\n   [  0   0   0]\n   [  0   0   0]\n   [  0   0   0]]\n\n  [[  0   0   0]\n   [  0   0   0]\n   [  0   0   0]\n   ...\n   [  0   0   0]\n   [  0   0   0]\n   [  0   0   0]]\n\n  ...\n\n  [[  0   0   0]\n   [  0   0   0]\n   [  0   0   0]\n   ...\n   [  0   0   0]\n   [  0   0   0]\n   [  0   0   0]]\n\n  [[  0   0   0]\n   [  0   0   0]\n   [  0   0   0]\n   ...\n   [  0   0   0]\n   [  0   0   0]\n   [  0   0   0]]\n\n  [[  0   0   0]\n   [  0   0   0]\n   [  0   0   0]\n   ...\n   [  0   0   0]\n   [  0   0   0]\n   [  0   0   0]]]\n\n\n [[[  0   0   0]\n   [  0   0   0]\n   [  0   0   0]\n   ...\n   [  0   0   0]\n   [  0   0   0]\n   [  0   0   0]]\n\n  [[  0   0   0]\n   [  0   0   0]\n   [  0   0   0]\n   ...\n   [  0   0   0]\n   [  0   0   0]\n   [  0   0   0]]\n\n  [[  0   0   0]\n   [  0   0   0]\n   [  0   0   0]\n   ...\n   [  0   0   0]\n   [  0   0   0]\n   [  0   0   0]]\n\n  ...\n\n  [[  0   0   0]\n   [  0   0   0]\n   [  0   0   0]\n   ...\n   [  0   0   0]\n   [  0   0   0]\n   [  0   0   0]]\n\n  [[  0   0   0]\n   [  0   0   0]\n   [  0   0   0]\n   ...\n   [  0   0   0]\n   [  0   0   0]\n   [  0   0   0]]\n\n  [[  0   0   0]\n   [  0   0   0]\n   [  0   0   0]\n   ...\n   [  0   0   0]\n   [  0   0   0]\n   [  0   0   0]]]] (of type <class 'numpy.ndarray'>)"
     ]
    }
   ],
   "source": [
    "history = lenet_custom_model.fit( x_train, y_train, batch_size=32, epochs=50, validation_data=(x_val, y_val),callbacks=[scheduler_callback])"
   ]
  }
 ],
 "metadata": {
  "kernelspec": {
   "display_name": "Python 3",
   "language": "python",
   "name": "python3"
  },
  "language_info": {
   "codemirror_mode": {
    "name": "ipython",
    "version": 3
   },
   "file_extension": ".py",
   "mimetype": "text/x-python",
   "name": "python",
   "nbconvert_exporter": "python",
   "pygments_lexer": "ipython3",
   "version": "3.11.9"
  }
 },
 "nbformat": 4,
 "nbformat_minor": 2
}
